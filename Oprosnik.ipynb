{
 "cells": [
  {
   "cell_type": "code",
   "execution_count": 468,
   "id": "e382e2bd-b570-4b5a-a2e6-31fc2b0427b2",
   "metadata": {},
   "outputs": [],
   "source": [
    "from matplotlib import pyplot as plt\n",
    "import seaborn as sns\n",
    "from sklearn import metrics\n",
    "from sklearn.model_selection import train_test_split\n",
    "import statsmodels.api as sm\n",
    "from sklearn import linear_model\n",
    "import pandas as pd\n",
    "import numpy as np\n",
    "import statsmodels.api as sm\n",
    "from sklearn import linear_model\n",
    "from sklearn.preprocessing import StandardScaler\n",
    "from sklearn.preprocessing import LabelEncoder"
   ]
  },
  {
   "cell_type": "code",
   "execution_count": 469,
   "id": "e30786a6-fe34-4789-8b48-5e7f78a34f72",
   "metadata": {},
   "outputs": [
    {
     "data": {
      "text/plain": [
       "(69, 26)"
      ]
     },
     "execution_count": 469,
     "metadata": {},
     "output_type": "execute_result"
    }
   ],
   "source": [
    "df = pd.read_csv('Опросник для исследования.csv')\n",
    "df = df.loc[df['Ваш GPA за первый семестр первого курса (используйте точку в качестве разделителя, пример 3.0)'] != '-']\n",
    "df = df.loc[df['Ваш GPA за первый семестр первого курса (используйте точку в качестве разделителя, пример 3.0)'] != '?']\n",
    "df = df.loc[df['Ваш GPA за первый семестр первого курса (используйте точку в качестве разделителя, пример 3.0)'] != '1 курс']\n",
    "df.drop(list(df.filter(regex = 'Отзыв')), axis = 1, inplace = True)\n",
    "df.drop(list(df.filter(regex = 'Количество баллов')), axis = 1, inplace = True)\n",
    "df = df.drop(['Отметка времени', 'Отметьте из списка эти ветви власти ', 'Сколько длится президентский срок? (напишите только цифру)', 'Из каких палат состоит Парламент? (выберите несколько)', 'Действующий премьер-министр РК', 'Экономическая система РК', 'Является ли РК светским государством?', 'Сколько сроков подряд можно избираться президентом? (напишите только цифру)', 'Выберите государственные символы', 'Может ли Президент быть досрочно освобожден от должности решением Парламента?', 'Как называется процедура отстранения президента от должности?', 'Знаете ли вы имя акима вашего населенного пункта?'], axis = 1)\n",
    "df.drop(['Сколько существует ветвей власти? (напишите только цифру)'], axis = 1, inplace = True)\n",
    "df.shape"
   ]
  },
  {
   "cell_type": "code",
   "execution_count": 470,
   "id": "744c6c3a-4065-4171-b9fb-e7dcb2d3028a",
   "metadata": {},
   "outputs": [],
   "source": [
    "df = df.rename({'Всего баллов': 'score', 'Ваш GPA за первый семестр первого курса (используйте точку в качестве разделителя, пример 3.0)': 'gpa'}, axis=1)\n",
    "df = df.rename({'Пол': 'male', 'Возраст': 'age', 'Где вы проживали на момент учебы в школе?': 'city', 'Язык обучения в вашем классе': 'lang', 'Частная или государственная школа': 'private', 'Формат школы': 'type', 'Знание английского на момент обучения в школе': 'english'}, axis=1)\n",
    "df = df.rename({'Ваша успеваемость в школе': 'gpa_school', 'Посещали репетиторов во время школы?': 'tutors', 'Посещали спортивные секции во время школы?': 'sport', 'Занимались творчеством (рисование/рукоделие/театр)?': 'art', 'Имелся ли в школе интернет?': 'internet', 'Есть ли высшее образование у ваших родителей (хотя бы у одного)?': 'edu_parents', 'Средняя зп в месяц ваших родителей (суммарно) во время вашего обучения в школе': 'wage', 'Смотрите/читаете новости': 'news', 'Основной источник новостей': 'news_source', 'Проявляли политическую активность (были наблюдателями на выборах например)': 'activism', 'Участник молодежных организаций (МИСК, молодежное крыло полит партии и другое)': 'organization', 'Сталкивались с несправедливостью': 'injustice', 'Интересуетесь политикой': 'interest'}, axis=1)\n",
    "df = df.rename({'Интересуются ли родители политикой': 'interest_parents', 'Ходят ли ваши родители на выборы?': 'vote_parents', 'Насколько устраивает жизнь в КЗ': 'satisfaction', 'Имелись ли в вашем населенном пункте культурные объекты (библиотеки/музеи/американские уголки/мастерские/театры)?': 'city_culture'}, axis=1)\n",
    "df.columns\n",
    "df = df.replace({'news_source':{'Блоггеры': 'bloggers', 'Новостные порталы в интернете': 'news_portals', 'Паблики в соц сетях': 'social_meadia', 'Телевизор': 'TV'}})\n",
    "df = df.replace({'satisfaction':{'Да, устраивает': 'Yes,satisfied', 'Затрудняюсь ответить': 'Cannot answer', 'Нет, не устраивает': 'No,not satisfied', 'Скорее не устраивает': 'Rather not satisfied', 'Скорее устраивает': 'Rather satisfied'}})\n"
   ]
  },
  {
   "cell_type": "code",
   "execution_count": 471,
   "id": "20076acb-f38f-4d2e-96bc-fff5bb83ddb0",
   "metadata": {},
   "outputs": [],
   "source": [
    "le = LabelEncoder()\n",
    "y = le.fit_transform(df['lang'])\n",
    "y\n",
    "#rus = 1\n",
    "df['lang'] = y"
   ]
  },
  {
   "cell_type": "code",
   "execution_count": 472,
   "id": "1708b8f4-afce-4c27-a053-e90ada710246",
   "metadata": {},
   "outputs": [],
   "source": [
    "y = le.fit_transform(df['private'])\n",
    "y\n",
    "#private = 1\n",
    "df['private'] = y"
   ]
  },
  {
   "cell_type": "code",
   "execution_count": 473,
   "id": "727d6a73-d857-4e8e-932b-a7db3eb0d854",
   "metadata": {},
   "outputs": [],
   "source": [
    "y = le.fit_transform(df['male'])\n",
    "y\n",
    "#male = 1\n",
    "df['male'] = y"
   ]
  },
  {
   "cell_type": "code",
   "execution_count": 474,
   "id": "cb6d6653-16fb-456c-a374-4319958fcf86",
   "metadata": {},
   "outputs": [],
   "source": [
    "y = le.fit_transform(df['city'])\n",
    "y\n",
    "#city = 0\n",
    "df['city'] = y\n",
    "df = df.rename({'city': 'village'}, axis = 1)"
   ]
  },
  {
   "cell_type": "code",
   "execution_count": 475,
   "id": "de0e396a-8d74-4c81-b80d-c1fdb2a2fd61",
   "metadata": {},
   "outputs": [],
   "source": [
    "df = df.replace('Да', 1)\n",
    "df = df.replace('Нет', 0)"
   ]
  },
  {
   "cell_type": "code",
   "execution_count": 476,
   "id": "6731350c-dcd6-4cc5-9b95-a884ef990d35",
   "metadata": {},
   "outputs": [],
   "source": [
    "df['score'] = df['score'].apply(lambda x: x.split('/')[0].strip())\n",
    "df = df.astype({\"score\": float})"
   ]
  },
  {
   "cell_type": "code",
   "execution_count": 477,
   "id": "0e098461-4c87-4de8-9519-3cb652d18382",
   "metadata": {},
   "outputs": [],
   "source": [
    "df.loc[df['gpa'] == '1,67']\n",
    "df = df.replace('1,67', '1.67')\n",
    "df.loc[df['gpa'] == '1,67']\n",
    "df.loc[df['gpa'] == '2,8']\n",
    "df = df.replace('2,8', '2.8')\n",
    "df.loc[df['gpa'] == '2,8']\n",
    "df.loc[df['gpa'] == '2,76']\n",
    "df = df.replace('2,76', '2.76')\n",
    "df.loc[df['gpa'] == '2,76']\n",
    "df = df.astype({\"gpa\": float})\n"
   ]
  },
  {
   "cell_type": "code",
   "execution_count": 478,
   "id": "ebf80edd-1a73-4e9f-9d0a-a49af14fbfbd",
   "metadata": {},
   "outputs": [
    {
     "name": "stdout",
     "output_type": "stream",
     "text": [
      "(69, 26)\n",
      "                            OLS Regression Results                            \n",
      "==============================================================================\n",
      "Dep. Variable:                  score   R-squared:                       0.489\n",
      "Model:                            OLS   Adj. R-squared:                  0.277\n",
      "Method:                 Least Squares   F-statistic:                     2.299\n",
      "Date:                Wed, 10 Nov 2021   Prob (F-statistic):            0.00944\n",
      "Time:                        14:00:09   Log-Likelihood:                -139.43\n",
      "No. Observations:                  69   AIC:                             320.9\n",
      "Df Residuals:                      48   BIC:                             367.8\n",
      "Df Model:                          20                                         \n",
      "Covariance Type:            nonrobust                                         \n",
      "=====================================================================================================\n",
      "                                        coef    std err          t      P>|t|      [0.025      0.975]\n",
      "-----------------------------------------------------------------------------------------------------\n",
      "const                                10.6734      3.926      2.718      0.009       2.779      18.568\n",
      "male                                 -0.8538      0.607     -1.407      0.166      -2.074       0.366\n",
      "age                                  -0.3715      0.278     -1.334      0.188      -0.931       0.188\n",
      "village                              -1.2061      0.801     -1.506      0.139      -2.816       0.404\n",
      "edu_parents                           0.5844      0.968      0.604      0.549      -1.361       2.530\n",
      "wage                               1.693e-07   1.99e-06      0.085      0.932   -3.82e-06    4.16e-06\n",
      "news                                  1.0989      0.810      1.357      0.181      -0.530       2.727\n",
      "activism                             -3.2932      1.091     -3.018      0.004      -5.487      -1.099\n",
      "organization                          1.7745      1.764      1.006      0.319      -1.772       5.321\n",
      "injustice                            -2.3085      0.901     -2.562      0.014      -4.120      -0.497\n",
      "interest                              1.4618      0.754      1.940      0.058      -0.053       2.977\n",
      "interest_parents                      0.1489      0.600      0.248      0.805      -1.058       1.356\n",
      "vote_parents                         -0.4511      0.678     -0.666      0.509      -1.814       0.911\n",
      "city_culture                          0.0586      1.040      0.056      0.955      -2.032       2.149\n",
      "news_source_TV                        2.0043      2.100      0.954      0.345      -2.219       6.228\n",
      "news_source_bloggers                  0.8940      1.587      0.563      0.576      -2.297       4.085\n",
      "news_source_news_portals              4.0949      1.238      3.307      0.002       1.606       6.584\n",
      "news_source_social_meadia             3.6802      1.215      3.028      0.004       1.237       6.124\n",
      "satisfaction_Cannot answer            2.2056      1.142      1.932      0.059      -0.090       4.501\n",
      "satisfaction_No,not satisfied         0.6138      1.159      0.530      0.599      -1.717       2.944\n",
      "satisfaction_Rather not satisfied     2.3850      0.963      2.476      0.017       0.449       4.321\n",
      "satisfaction_Rather satisfied         2.0803      0.867      2.401      0.020       0.338       3.823\n",
      "satisfaction_Yes,satisfied            3.3887      1.209      2.804      0.007       0.958       5.819\n",
      "==============================================================================\n",
      "Omnibus:                        4.257   Durbin-Watson:                   2.225\n",
      "Prob(Omnibus):                  0.119   Jarque-Bera (JB):                3.795\n",
      "Skew:                          -0.326   Prob(JB):                        0.150\n",
      "Kurtosis:                       3.946   Cond. No.                     5.47e+21\n",
      "==============================================================================\n",
      "\n",
      "Notes:\n",
      "[1] Standard Errors assume that the covariance matrix of the errors is correctly specified.\n",
      "[2] The smallest eigenvalue is 3.23e-31. This might indicate that there are\n",
      "strong multicollinearity problems or that the design matrix is singular.\n"
     ]
    }
   ],
   "source": [
    "X = df.copy()\n",
    "X = X.replace('50 000 - 100 000', '75000')\n",
    "X = X.replace('100 000 - 200 000', '150000')\n",
    "X = X.replace('200 000 - 300 000', '250000')\n",
    "X = X.replace('300 000 - 400 000', '350000')\n",
    "X = X.replace('400 000 - 500 000', '450000')\n",
    "X = X.replace('500 000 и больше', '600000')\n",
    "X = X.astype({\"wage\": int})\n",
    "print(X.shape)\n",
    "X = X.drop(['score', 'lang', 'private', 'type', 'english', 'gpa_school', 'gpa', 'tutors', 'sport', 'art', 'internet'], axis=1)\n",
    "X = pd.get_dummies(data=X)\n",
    "#X = X.rename({'news_source_Блоггеры': 'news_source_bloggers', 'news_source_Новостные порталы в интернете': 'news_source_news_portals', 'news_source_Паблики в соц сетях': 'news_source_social_meadia', 'news_source_Телевизор': 'news_source_TV'}, axis=1)\n",
    "#X = X.rename({'satisfaction_Да, устраивает': 'satisfaction_Yes,satisfied', 'satisfaction_Затрудняюсь ответить': 'satisfaction_Cannot answer', 'satisfaction_Нет, не устраивает': 'satisfaction_No,not satisfied', 'satisfaction_Скорее не устраивает': 'satisfaction_Rather not satisfied', 'satisfaction_Скорее устраивает': 'satisfaction_Rather satisfied'}, axis=1)\n",
    "\n",
    "#X = X.drop(['news_source_Новостные порталы в интернете','news_source_Блоггеры', 'satisfaction_Скорее устраивает', 'satisfaction_Затрудняюсь ответить', 'satisfaction_Скорее не устраивает', 'satisfaction_Нет, не устраивает', 'news_source_Телевизор'], axis=1)\n",
    "\n",
    "y = df['score']\n",
    "\n",
    "X = sm.add_constant(X)\n",
    "model = sm.OLS(y, X)\n",
    "\n",
    "results = model.fit()\n",
    "\n",
    "print(results.summary())\n"
   ]
  },
  {
   "cell_type": "code",
   "execution_count": 447,
   "id": "5f055170-33fa-4c86-916b-f17f4187256d",
   "metadata": {},
   "outputs": [],
   "source": [
    "#from sklearn import preprocessing\n",
    "\n",
    "#x_train, x_test, y_train, y_test = train_test_split(X,y,test_size = 0.2, shuffle=True)\n",
    "\n",
    "#regr = linear_model.LinearRegression()\n",
    "\n",
    "#regr.fit(x_train, y_train)\n",
    "\n",
    "#regr.score(x_test, y_test)\n",
    "#why regression is so changable"
   ]
  },
  {
   "cell_type": "code",
   "execution_count": 461,
   "id": "acde69a6-328a-43df-8acf-d7d951c5b61c",
   "metadata": {},
   "outputs": [
    {
     "data": {
      "text/plain": [
       "Index(['const', 'male', 'age', 'village', 'edu_parents', 'wage', 'news',\n",
       "       'activism', 'organization', 'injustice', 'interest', 'interest_parents',\n",
       "       'vote_parents', 'city_culture', 'news_source_bloggers',\n",
       "       'news_source_news_portals', 'news_source_social_meadia',\n",
       "       'news_source_TV', 'satisfaction_Yes,satisfied',\n",
       "       'satisfaction_Cannot answer', 'satisfaction_No,not satisfied',\n",
       "       'satisfaction_Rather not satisfied', 'satisfaction_Rather satisfied'],\n",
       "      dtype='object')"
      ]
     },
     "execution_count": 461,
     "metadata": {},
     "output_type": "execute_result"
    }
   ],
   "source": [
    "X.columns"
   ]
  },
  {
   "cell_type": "code",
   "execution_count": 479,
   "id": "8a142d4c-e5ab-44ae-8057-572266d340da",
   "metadata": {},
   "outputs": [
    {
     "name": "stdout",
     "output_type": "stream",
     "text": [
      "LASSO best alpha:  0.08504489341802678\n"
     ]
    },
    {
     "data": {
      "text/plain": [
       "<AxesSubplot:xlabel='lasso_coeff', ylabel='features'>"
      ]
     },
     "execution_count": 479,
     "metadata": {},
     "output_type": "execute_result"
    },
    {
     "data": {
      "image/png": "[encoded data removed]",
      "text/plain": [
       "<Figure size 864x720 with 1 Axes>"
      ]
     },
     "metadata": {},
     "output_type": "display_data"
    }
   ],
   "source": [
    "from sklearn.linear_model import LassoCV\n",
    "\n",
    "#LassoCV to find the optimal alpha value for L1 regularization\n",
    "alphavec = 10**np.linspace(-3,3,200) \n",
    "lasso_model = LassoCV(alphas = alphavec, cv=5)\n",
    "lasso_model.fit(X, y)\n",
    "\n",
    "print(\"LASSO best alpha: \", lasso_model.alpha_ )# display all coefficients in the model with optimal alpha\n",
    "\n",
    "feature_coefs = list(zip(X.columns, lasso_model.coef_))\n",
    "\n",
    "feature_coefs = pd.DataFrame(feature_coefs, columns = [\"features\", \"lasso_coeff\"])\n",
    "feature_coefs[\"lasso_coeff\"] = np.abs(feature_coefs[\"lasso_coeff\"]) \n",
    "feature_coefs.sort_values(by = \"lasso_coeff\", ascending=False, inplace=True)\n",
    "\n",
    "sns.set(rc={'figure.figsize':(12,10)})\n",
    "sns.barplot(y = feature_coefs.features, x = feature_coefs.lasso_coeff, color='b')"
   ]
  },
  {
   "cell_type": "code",
   "execution_count": 481,
   "id": "02a2c6e0-6040-446d-bb63-1fe1e05b365f",
   "metadata": {},
   "outputs": [
    {
     "data": {
      "text/plain": [
       "10                         interest\n",
       "22       satisfaction_Yes,satisfied\n",
       "7                          activism\n",
       "3                           village\n",
       "9                         injustice\n",
       "19    satisfaction_No,not satisfied\n",
       "2                               age\n",
       "6                              news\n",
       "1                              male\n",
       "16         news_source_news_portals\n",
       "Name: features, dtype: object"
      ]
     },
     "execution_count": 481,
     "metadata": {},
     "output_type": "execute_result"
    }
   ],
   "source": [
    "features_significant = feature_coefs.features[feature_coefs.lasso_coeff >= 0.015]\n",
    "features_significant\n",
    "#by p-values: activism, injustice, interest, новостные порталы, паблики, да устраивает, затрудняюсь, скорее не устраивает, устраивает"
   ]
  },
  {
   "cell_type": "code",
   "execution_count": null,
   "id": "988f2ad7-ecda-4e06-8cff-b5334e9bf917",
   "metadata": {},
   "outputs": [],
   "source": []
  },
  {
   "cell_type": "code",
   "execution_count": 484,
   "id": "742607c4-e6a4-45d7-8cad-aa6d1939fc10",
   "metadata": {},
   "outputs": [
    {
     "data": {
      "text/html": [
       "<div>\n",
       "<style scoped>\n",
       "    .dataframe tbody tr th:only-of-type {\n",
       "        vertical-align: middle;\n",
       "    }\n",
       "\n",
       "    .dataframe tbody tr th {\n",
       "        vertical-align: top;\n",
       "    }\n",
       "\n",
       "    .dataframe thead th {\n",
       "        text-align: right;\n",
       "    }\n",
       "</style>\n",
       "<table border=\"1\" class=\"dataframe\">\n",
       "  <thead>\n",
       "    <tr style=\"text-align: right;\">\n",
       "      <th></th>\n",
       "      <th>Coefficient</th>\n",
       "    </tr>\n",
       "  </thead>\n",
       "  <tbody>\n",
       "    <tr>\n",
       "      <th>interest</th>\n",
       "      <td>1.837146e+00</td>\n",
       "    </tr>\n",
       "    <tr>\n",
       "      <th>satisfaction_Yes,satisfied</th>\n",
       "      <td>1.523145e+00</td>\n",
       "    </tr>\n",
       "    <tr>\n",
       "      <th>news_source_social_meadia</th>\n",
       "      <td>1.444559e+00</td>\n",
       "    </tr>\n",
       "    <tr>\n",
       "      <th>organization</th>\n",
       "      <td>1.201895e+00</td>\n",
       "    </tr>\n",
       "    <tr>\n",
       "      <th>news</th>\n",
       "      <td>9.170489e-01</td>\n",
       "    </tr>\n",
       "    <tr>\n",
       "      <th>edu_parents</th>\n",
       "      <td>8.955035e-01</td>\n",
       "    </tr>\n",
       "    <tr>\n",
       "      <th>news_source_news_portals</th>\n",
       "      <td>8.449446e-01</td>\n",
       "    </tr>\n",
       "    <tr>\n",
       "      <th>satisfaction_Cannot answer</th>\n",
       "      <td>7.865271e-01</td>\n",
       "    </tr>\n",
       "    <tr>\n",
       "      <th>city_culture</th>\n",
       "      <td>6.085635e-01</td>\n",
       "    </tr>\n",
       "    <tr>\n",
       "      <th>satisfaction_Rather satisfied</th>\n",
       "      <td>7.852920e-02</td>\n",
       "    </tr>\n",
       "    <tr>\n",
       "      <th>news_source_TV</th>\n",
       "      <td>6.661338e-16</td>\n",
       "    </tr>\n",
       "    <tr>\n",
       "      <th>const</th>\n",
       "      <td>0.000000e+00</td>\n",
       "    </tr>\n",
       "    <tr>\n",
       "      <th>wage</th>\n",
       "      <td>-5.792014e-07</td>\n",
       "    </tr>\n",
       "    <tr>\n",
       "      <th>vote_parents</th>\n",
       "      <td>-2.415272e-01</td>\n",
       "    </tr>\n",
       "    <tr>\n",
       "      <th>satisfaction_Rather not satisfied</th>\n",
       "      <td>-3.625171e-01</td>\n",
       "    </tr>\n",
       "    <tr>\n",
       "      <th>interest_parents</th>\n",
       "      <td>-3.646880e-01</td>\n",
       "    </tr>\n",
       "    <tr>\n",
       "      <th>male</th>\n",
       "      <td>-5.839909e-01</td>\n",
       "    </tr>\n",
       "    <tr>\n",
       "      <th>age</th>\n",
       "      <td>-6.848263e-01</td>\n",
       "    </tr>\n",
       "    <tr>\n",
       "      <th>injustice</th>\n",
       "      <td>-1.672455e+00</td>\n",
       "    </tr>\n",
       "    <tr>\n",
       "      <th>satisfaction_No,not satisfied</th>\n",
       "      <td>-2.025684e+00</td>\n",
       "    </tr>\n",
       "    <tr>\n",
       "      <th>activism</th>\n",
       "      <td>-2.053956e+00</td>\n",
       "    </tr>\n",
       "    <tr>\n",
       "      <th>village</th>\n",
       "      <td>-2.093983e+00</td>\n",
       "    </tr>\n",
       "    <tr>\n",
       "      <th>news_source_bloggers</th>\n",
       "      <td>-2.289504e+00</td>\n",
       "    </tr>\n",
       "  </tbody>\n",
       "</table>\n",
       "</div>"
      ],
      "text/plain": [
       "                                    Coefficient\n",
       "interest                           1.837146e+00\n",
       "satisfaction_Yes,satisfied         1.523145e+00\n",
       "news_source_social_meadia          1.444559e+00\n",
       "organization                       1.201895e+00\n",
       "news                               9.170489e-01\n",
       "edu_parents                        8.955035e-01\n",
       "news_source_news_portals           8.449446e-01\n",
       "satisfaction_Cannot answer         7.865271e-01\n",
       "city_culture                       6.085635e-01\n",
       "satisfaction_Rather satisfied      7.852920e-02\n",
       "news_source_TV                     6.661338e-16\n",
       "const                              0.000000e+00\n",
       "wage                              -5.792014e-07\n",
       "vote_parents                      -2.415272e-01\n",
       "satisfaction_Rather not satisfied -3.625171e-01\n",
       "interest_parents                  -3.646880e-01\n",
       "male                              -5.839909e-01\n",
       "age                               -6.848263e-01\n",
       "injustice                         -1.672455e+00\n",
       "satisfaction_No,not satisfied     -2.025684e+00\n",
       "activism                          -2.053956e+00\n",
       "village                           -2.093983e+00\n",
       "news_source_bloggers              -2.289504e+00"
      ]
     },
     "execution_count": 484,
     "metadata": {},
     "output_type": "execute_result"
    }
   ],
   "source": [
    "x_train, x_test, y_train, y_test = train_test_split(X,y,test_size = 0.2, shuffle=True)\n",
    "\n",
    "regr = linear_model.LinearRegression()\n",
    "\n",
    "regr.fit(x_train, y_train)\n",
    "\n",
    "coeff_parameter = pd.DataFrame(regr.coef_,X.columns,columns=['Coefficient'])\n",
    "coeff_parameter.sort_values(by='Coefficient', ascending=False)\n"
   ]
  },
  {
   "cell_type": "code",
   "execution_count": 322,
   "id": "c38c3fc5-45fb-43a8-b295-a7bf629b48d4",
   "metadata": {},
   "outputs": [],
   "source": [
    "#X = df.copy()\n",
    "#print(X.shape)\n",
    "#X = X.drop(['lang', 'private', 'type', 'english', 'gpa_school', 'gpa', 'tutors', 'sport', 'art', 'internet'], axis=1)\n",
    "#X = X.drop(['news_source', 'satisfaction'], axis=1)\n",
    "#X = pd.get_dummies(data=X)\n",
    "#corm = X.corr()\n",
    "#print(corm['score'].sort_values(ascending=False))\n",
    "#colormap = sns.diverging_palette(220, 10, as_cmap=True)\n",
    "#plt.rcParams[\"figure.figsize\"] = (10,10)\n",
    "#sns.heatmap(corm, cmap=colormap, annot = True, fmt='.2f')"
   ]
  },
  {
   "cell_type": "code",
   "execution_count": 485,
   "id": "e54deafc-a536-43ed-8fd3-0d1f725f70ce",
   "metadata": {},
   "outputs": [],
   "source": [
    "plt.rcParams[\"figure.figsize\"] = (7,3)"
   ]
  },
  {
   "cell_type": "code",
   "execution_count": 486,
   "id": "279f5b60-a82f-4fee-bfa2-6273a3ee1852",
   "metadata": {},
   "outputs": [
    {
     "name": "stdout",
     "output_type": "stream",
     "text": [
      "(69, 26)\n",
      "social_meadia    37\n",
      "news_portals     28\n",
      "bloggers          3\n",
      "TV                1\n",
      "Name: news_source, dtype: int64\n",
      "social_meadia    0.536232\n",
      "news_portals     0.405797\n",
      "bloggers         0.043478\n",
      "TV               0.014493\n",
      "Name: news_source, dtype: float64\n"
     ]
    },
    {
     "data": {
      "text/plain": [
       "<AxesSubplot:>"
      ]
     },
     "execution_count": 486,
     "metadata": {},
     "output_type": "execute_result"
    },
    {
     "data": {
      "image/png": "[encoded data removed]",
      "text/plain": [
       "<Figure size 504x216 with 1 Axes>"
      ]
     },
     "metadata": {},
     "output_type": "display_data"
    }
   ],
   "source": [
    "X = df.copy()\n",
    "print(X.shape)\n",
    "X = X.drop(['lang', 'private', 'type', 'english', 'gpa_school', 'gpa', 'tutors', 'sport', 'art', 'internet'], axis=1)\n",
    "\n",
    "print(X['news_source'].value_counts())\n",
    "print(X['news_source'].value_counts(normalize=True))\n",
    "X['news_source'].hist()"
   ]
  },
  {
   "cell_type": "code",
   "execution_count": 487,
   "id": "c8594429-9224-4a77-8831-d7043f22cfd2",
   "metadata": {},
   "outputs": [
    {
     "name": "stdout",
     "output_type": "stream",
     "text": [
      "Rather satisfied        21\n",
      "Rather not satisfied    20\n",
      "Cannot answer           12\n",
      "No,not satisfied        11\n",
      "Yes,satisfied            5\n",
      "Name: satisfaction, dtype: int64\n",
      "Rather satisfied        0.304348\n",
      "Rather not satisfied    0.289855\n",
      "Cannot answer           0.173913\n",
      "No,not satisfied        0.159420\n",
      "Yes,satisfied           0.072464\n",
      "Name: satisfaction, dtype: float64\n"
     ]
    },
    {
     "data": {
      "text/plain": [
       "<AxesSubplot:>"
      ]
     },
     "execution_count": 487,
     "metadata": {},
     "output_type": "execute_result"
    },
    {
     "data": {
      "image/png": "[encoded data removed]",
      "text/plain": [
       "<Figure size 504x216 with 1 Axes>"
      ]
     },
     "metadata": {},
     "output_type": "display_data"
    }
   ],
   "source": [
    "print(X['satisfaction'].value_counts())\n",
    "print(X['satisfaction'].value_counts(normalize=True))\n",
    "X['satisfaction'].hist()"
   ]
  },
  {
   "cell_type": "code",
   "execution_count": 488,
   "id": "6d271e35-bafe-4a21-8bc8-32d52793d835",
   "metadata": {},
   "outputs": [
    {
     "name": "stdout",
     "output_type": "stream",
     "text": [
      "1    46\n",
      "0    23\n",
      "Name: male, dtype: int64\n",
      "1    0.666667\n",
      "0    0.333333\n",
      "Name: male, dtype: float64\n"
     ]
    },
    {
     "data": {
      "text/plain": [
       "<AxesSubplot:>"
      ]
     },
     "execution_count": 488,
     "metadata": {},
     "output_type": "execute_result"
    },
    {
     "data": {
      "image/png": "[encoded data removed]",
      "text/plain": [
       "<Figure size 504x216 with 1 Axes>"
      ]
     },
     "metadata": {},
     "output_type": "display_data"
    }
   ],
   "source": [
    "print(X['male'].value_counts())\n",
    "print(X['male'].value_counts(normalize=True))\n",
    "X['male'].hist()\n",
    "#male - 1, fem - 0"
   ]
  },
  {
   "cell_type": "code",
   "execution_count": 489,
   "id": "63d924d8-8052-4e47-a94d-5ce0eee38cc0",
   "metadata": {},
   "outputs": [
    {
     "name": "stdout",
     "output_type": "stream",
     "text": [
      "19    22\n",
      "20    18\n",
      "18    16\n",
      "21    10\n",
      "17     2\n",
      "22     1\n",
      "Name: age, dtype: int64\n",
      "19    0.318841\n",
      "20    0.260870\n",
      "18    0.231884\n",
      "21    0.144928\n",
      "17    0.028986\n",
      "22    0.014493\n",
      "Name: age, dtype: float64\n"
     ]
    },
    {
     "data": {
      "text/plain": [
       "<AxesSubplot:>"
      ]
     },
     "execution_count": 489,
     "metadata": {},
     "output_type": "execute_result"
    },
    {
     "data": {
      "image/png": "[encoded data removed]",
      "text/plain": [
       "<Figure size 504x216 with 1 Axes>"
      ]
     },
     "metadata": {},
     "output_type": "display_data"
    }
   ],
   "source": [
    "print(X['age'].value_counts())\n",
    "print(X['age'].value_counts(normalize=True))\n",
    "\n",
    "X['age'].hist()"
   ]
  },
  {
   "cell_type": "code",
   "execution_count": 490,
   "id": "a2fcc85c-b711-4769-81a9-2c4abdc46752",
   "metadata": {},
   "outputs": [
    {
     "name": "stdout",
     "output_type": "stream",
     "text": [
      "0    57\n",
      "1    12\n",
      "Name: village, dtype: int64\n",
      "0    0.826087\n",
      "1    0.173913\n",
      "Name: village, dtype: float64\n"
     ]
    },
    {
     "data": {
      "text/plain": [
       "<AxesSubplot:>"
      ]
     },
     "execution_count": 490,
     "metadata": {},
     "output_type": "execute_result"
    },
    {
     "data": {
      "image/png": "[encoded data removed]",
      "text/plain": [
       "<Figure size 504x216 with 1 Axes>"
      ]
     },
     "metadata": {},
     "output_type": "display_data"
    }
   ],
   "source": [
    "print(X['village'].value_counts())\n",
    "print(X['village'].value_counts(normalize=True))\n",
    "X['village'].hist()\n",
    "#village - 1, city - 0"
   ]
  },
  {
   "cell_type": "code",
   "execution_count": 491,
   "id": "c4d1673b-cd93-4064-9488-b16a6722dbc9",
   "metadata": {},
   "outputs": [
    {
     "name": "stdout",
     "output_type": "stream",
     "text": [
      "1    60\n",
      "0     9\n",
      "Name: edu_parents, dtype: int64\n",
      "1    0.869565\n",
      "0    0.130435\n",
      "Name: edu_parents, dtype: float64\n"
     ]
    },
    {
     "data": {
      "text/plain": [
       "<AxesSubplot:>"
      ]
     },
     "execution_count": 491,
     "metadata": {},
     "output_type": "execute_result"
    },
    {
     "data": {
      "image/png": "[encoded data removed]",
      "text/plain": [
       "<Figure size 504x216 with 1 Axes>"
      ]
     },
     "metadata": {},
     "output_type": "display_data"
    }
   ],
   "source": [
    "print(X['edu_parents'].value_counts())\n",
    "print(X['edu_parents'].value_counts(normalize=True))\n",
    "X['edu_parents'].hist()\n",
    "#have hgher ed - 1, no higher ed - 0"
   ]
  },
  {
   "cell_type": "code",
   "execution_count": 492,
   "id": "37dc3be1-f7f2-47cf-ac26-2795931711ea",
   "metadata": {},
   "outputs": [
    {
     "name": "stdout",
     "output_type": "stream",
     "text": [
      "200 000 - 300 000    19\n",
      "400 000 - 500 000    13\n",
      "500 000 и больше     12\n",
      "100 000 - 200 000    11\n",
      "300 000 - 400 000    10\n",
      "50 000 - 100 000      4\n",
      "Name: wage, dtype: int64\n",
      "200 000 - 300 000    0.275362\n",
      "400 000 - 500 000    0.188406\n",
      "500 000 и больше     0.173913\n",
      "100 000 - 200 000    0.159420\n",
      "300 000 - 400 000    0.144928\n",
      "50 000 - 100 000     0.057971\n",
      "Name: wage, dtype: float64\n"
     ]
    },
    {
     "data": {
      "text/plain": [
       "<AxesSubplot:>"
      ]
     },
     "execution_count": 492,
     "metadata": {},
     "output_type": "execute_result"
    },
    {
     "data": {
      "image/png": "[encoded data removed]",
      "text/plain": [
       "<Figure size 1080x216 with 1 Axes>"
      ]
     },
     "metadata": {},
     "output_type": "display_data"
    }
   ],
   "source": [
    "plt.rcParams[\"figure.figsize\"] = (15,3)\n",
    "print(X['wage'].value_counts())\n",
    "print(X['wage'].value_counts(normalize=True))\n",
    "X['wage'].hist()"
   ]
  },
  {
   "cell_type": "code",
   "execution_count": 493,
   "id": "2a7198a8-5fd6-49c0-8e50-e582d2eb1fcf",
   "metadata": {},
   "outputs": [
    {
     "name": "stdout",
     "output_type": "stream",
     "text": [
      "0    62\n",
      "1     7\n",
      "Name: activism, dtype: int64\n",
      "0    0.898551\n",
      "1    0.101449\n",
      "Name: activism, dtype: float64\n"
     ]
    },
    {
     "data": {
      "text/plain": [
       "<AxesSubplot:>"
      ]
     },
     "execution_count": 493,
     "metadata": {},
     "output_type": "execute_result"
    },
    {
     "data": {
      "image/png": "[encoded data removed]",
      "text/plain": [
       "<Figure size 504x216 with 1 Axes>"
      ]
     },
     "metadata": {},
     "output_type": "display_data"
    }
   ],
   "source": [
    "plt.rcParams[\"figure.figsize\"] = (7,3)\n",
    "print(X['activism'].value_counts())\n",
    "print(X['activism'].value_counts(normalize=True))\n",
    "X['activism'].hist()"
   ]
  },
  {
   "cell_type": "code",
   "execution_count": 494,
   "id": "5fb5e38d-7338-4c58-89ae-319954ce4f2f",
   "metadata": {},
   "outputs": [
    {
     "name": "stdout",
     "output_type": "stream",
     "text": [
      "0    66\n",
      "1     3\n",
      "Name: organization, dtype: int64\n",
      "0    0.956522\n",
      "1    0.043478\n",
      "Name: organization, dtype: float64\n"
     ]
    },
    {
     "data": {
      "text/plain": [
       "<AxesSubplot:>"
      ]
     },
     "execution_count": 494,
     "metadata": {},
     "output_type": "execute_result"
    },
    {
     "data": {
      "image/png": "[encoded data removed]",
      "text/plain": [
       "<Figure size 504x216 with 1 Axes>"
      ]
     },
     "metadata": {},
     "output_type": "display_data"
    }
   ],
   "source": [
    "print(X['organization'].value_counts())\n",
    "print(X['organization'].value_counts(normalize=True))\n",
    "X['organization'].hist()"
   ]
  },
  {
   "cell_type": "code",
   "execution_count": 495,
   "id": "ced97dca-2bb4-4d85-ba4d-c42d5133a022",
   "metadata": {},
   "outputs": [
    {
     "name": "stdout",
     "output_type": "stream",
     "text": [
      "1    57\n",
      "0    12\n",
      "Name: injustice, dtype: int64\n",
      "1    0.826087\n",
      "0    0.173913\n",
      "Name: injustice, dtype: float64\n"
     ]
    },
    {
     "data": {
      "text/plain": [
       "<AxesSubplot:>"
      ]
     },
     "execution_count": 495,
     "metadata": {},
     "output_type": "execute_result"
    },
    {
     "data": {
      "image/png": "[encoded data removed]",
      "text/plain": [
       "<Figure size 504x216 with 1 Axes>"
      ]
     },
     "metadata": {},
     "output_type": "display_data"
    }
   ],
   "source": [
    "print(X['injustice'].value_counts())\n",
    "print(X['injustice'].value_counts(normalize=True))\n",
    "X['injustice'].hist()"
   ]
  },
  {
   "cell_type": "code",
   "execution_count": 496,
   "id": "8ae0735b-8251-4d73-ba65-eaf813b88659",
   "metadata": {},
   "outputs": [
    {
     "name": "stdout",
     "output_type": "stream",
     "text": [
      "1    36\n",
      "0    33\n",
      "Name: interest, dtype: int64\n",
      "1    0.521739\n",
      "0    0.478261\n",
      "Name: interest, dtype: float64\n"
     ]
    },
    {
     "data": {
      "text/plain": [
       "<AxesSubplot:>"
      ]
     },
     "execution_count": 496,
     "metadata": {},
     "output_type": "execute_result"
    },
    {
     "data": {
      "image/png": "[encoded data removed]",
      "text/plain": [
       "<Figure size 504x216 with 1 Axes>"
      ]
     },
     "metadata": {},
     "output_type": "display_data"
    }
   ],
   "source": [
    "print(X['interest'].value_counts())\n",
    "print(X['interest'].value_counts(normalize=True))\n",
    "X['interest'].hist()"
   ]
  },
  {
   "cell_type": "code",
   "execution_count": 497,
   "id": "7251355f-fd35-44c4-ab23-8981f982df93",
   "metadata": {},
   "outputs": [
    {
     "name": "stdout",
     "output_type": "stream",
     "text": [
      "0    35\n",
      "1    34\n",
      "Name: interest_parents, dtype: int64\n",
      "0    0.507246\n",
      "1    0.492754\n",
      "Name: interest_parents, dtype: float64\n"
     ]
    },
    {
     "data": {
      "text/plain": [
       "<AxesSubplot:>"
      ]
     },
     "execution_count": 497,
     "metadata": {},
     "output_type": "execute_result"
    },
    {
     "data": {
      "image/png": "[encoded data removed]",
      "text/plain": [
       "<Figure size 504x216 with 1 Axes>"
      ]
     },
     "metadata": {},
     "output_type": "display_data"
    }
   ],
   "source": [
    "print(X['interest_parents'].value_counts())\n",
    "print(X['interest_parents'].value_counts(normalize=True))\n",
    "X['interest_parents'].hist()"
   ]
  },
  {
   "cell_type": "code",
   "execution_count": 498,
   "id": "0e9b8c36-6cae-412a-b453-656cb816f1b2",
   "metadata": {},
   "outputs": [
    {
     "name": "stdout",
     "output_type": "stream",
     "text": [
      "1    47\n",
      "0    22\n",
      "Name: vote_parents, dtype: int64\n",
      "1    0.681159\n",
      "0    0.318841\n",
      "Name: vote_parents, dtype: float64\n"
     ]
    },
    {
     "data": {
      "text/plain": [
       "<AxesSubplot:>"
      ]
     },
     "execution_count": 498,
     "metadata": {},
     "output_type": "execute_result"
    },
    {
     "data": {
      "image/png": "[encoded data removed]",
      "text/plain": [
       "<Figure size 504x216 with 1 Axes>"
      ]
     },
     "metadata": {},
     "output_type": "display_data"
    }
   ],
   "source": [
    "print(X['vote_parents'].value_counts())\n",
    "print(X['vote_parents'].value_counts(normalize=True))\n",
    "X['vote_parents'].hist()"
   ]
  },
  {
   "cell_type": "code",
   "execution_count": 499,
   "id": "7925f393-d505-480b-a802-7fe9f0304541",
   "metadata": {},
   "outputs": [
    {
     "data": {
      "text/plain": [
       "<seaborn.axisgrid.FacetGrid at 0x1afc0113850>"
      ]
     },
     "execution_count": 499,
     "metadata": {},
     "output_type": "execute_result"
    },
    {
     "data": {
      "image/png": "[encoded data removed]",
      "text/plain": [
       "<Figure size 504x360 with 2 Axes>"
      ]
     },
     "metadata": {},
     "output_type": "display_data"
    }
   ],
   "source": [
    "sns.catplot(y=\"score\",col = 'village',data=X, kind=\"bar\", height=5, aspect=.7)"
   ]
  },
  {
   "cell_type": "code",
   "execution_count": 500,
   "id": "85d9625b-8683-43ec-91be-ba47458aaded",
   "metadata": {},
   "outputs": [
    {
     "data": {
      "text/plain": [
       "<seaborn.axisgrid.FacetGrid at 0x1afc028a4c0>"
      ]
     },
     "execution_count": 500,
     "metadata": {},
     "output_type": "execute_result"
    },
    {
     "data": {
      "image/png": "[encoded data removed]",
      "text/plain": [
       "<Figure size 504x360 with 2 Axes>"
      ]
     },
     "metadata": {},
     "output_type": "display_data"
    }
   ],
   "source": [
    "sns.catplot(y=\"score\",col = 'interest',data=X, kind=\"bar\", height=5, aspect=.7)"
   ]
  },
  {
   "cell_type": "code",
   "execution_count": 501,
   "id": "c6cb99cb-b624-46f6-9b6e-78a675ea19e1",
   "metadata": {},
   "outputs": [
    {
     "data": {
      "text/plain": [
       "<seaborn.axisgrid.FacetGrid at 0x1afbffc6580>"
      ]
     },
     "execution_count": 501,
     "metadata": {},
     "output_type": "execute_result"
    },
    {
     "data": {
      "image/png": "[encoded data removed]",
      "text/plain": [
       "<Figure size 504x360 with 2 Axes>"
      ]
     },
     "metadata": {},
     "output_type": "display_data"
    }
   ],
   "source": [
    "sns.catplot(y=\"score\",col = 'news',data=X, kind=\"bar\", height=5, aspect=.7)"
   ]
  },
  {
   "cell_type": "code",
   "execution_count": 502,
   "id": "712fec78-5cd3-43eb-b5cb-8088c2c21ffa",
   "metadata": {},
   "outputs": [
    {
     "data": {
      "text/plain": [
       "<seaborn.axisgrid.FacetGrid at 0x1afc038beb0>"
      ]
     },
     "execution_count": 502,
     "metadata": {},
     "output_type": "execute_result"
    },
    {
     "data": {
      "image/png": "[encoded data removed]",
      "text/plain": [
       "<Figure size 1008x360 with 4 Axes>"
      ]
     },
     "metadata": {},
     "output_type": "display_data"
    }
   ],
   "source": [
    "sns.catplot(y=\"score\",col = 'news_source',data=X, kind=\"bar\", height=5, aspect=.7)"
   ]
  },
  {
   "cell_type": "code",
   "execution_count": 503,
   "id": "fe907f1e-3650-4dd4-8e68-af29b79a0caf",
   "metadata": {},
   "outputs": [
    {
     "data": {
      "text/plain": [
       "<seaborn.axisgrid.FacetGrid at 0x1afc1682130>"
      ]
     },
     "execution_count": 503,
     "metadata": {},
     "output_type": "execute_result"
    },
    {
     "data": {
      "image/png": "[encoded data removed]",
      "text/plain": [
       "<Figure size 1512x360 with 6 Axes>"
      ]
     },
     "metadata": {},
     "output_type": "display_data"
    }
   ],
   "source": [
    "sns.catplot(y=\"score\",col = 'wage',data=X, kind=\"bar\", height=5, aspect=.7)"
   ]
  },
  {
   "cell_type": "code",
   "execution_count": 504,
   "id": "f63e9eae-8219-49ac-8be4-0664f91ed7c3",
   "metadata": {},
   "outputs": [
    {
     "data": {
      "text/plain": [
       "<seaborn.axisgrid.FacetGrid at 0x1afc16888e0>"
      ]
     },
     "execution_count": 504,
     "metadata": {},
     "output_type": "execute_result"
    },
    {
     "data": {
      "image/png": "[encoded data removed]",
      "text/plain": [
       "<Figure size 504x360 with 2 Axes>"
      ]
     },
     "metadata": {},
     "output_type": "display_data"
    }
   ],
   "source": [
    "sns.catplot(y=\"score\",col = 'interest_parents',data=X, kind=\"bar\", height=5, aspect=.7)"
   ]
  },
  {
   "cell_type": "code",
   "execution_count": 505,
   "id": "2088785c-eb36-4f09-915f-d1f0a17ea947",
   "metadata": {},
   "outputs": [
    {
     "data": {
      "text/plain": [
       "<seaborn.axisgrid.FacetGrid at 0x1afc1661550>"
      ]
     },
     "execution_count": 505,
     "metadata": {},
     "output_type": "execute_result"
    },
    {
     "data": {
      "image/png": "[encoded data removed]",
      "text/plain": [
       "<Figure size 504x360 with 2 Axes>"
      ]
     },
     "metadata": {},
     "output_type": "display_data"
    }
   ],
   "source": [
    "sns.catplot(y=\"score\",col = 'vote_parents',data=X, kind=\"bar\", height=5, aspect=.7)"
   ]
  },
  {
   "cell_type": "code",
   "execution_count": 506,
   "id": "5e43af24-469f-4d65-bf82-a29a5d73c0db",
   "metadata": {},
   "outputs": [
    {
     "data": {
      "text/plain": [
       "<seaborn.axisgrid.FacetGrid at 0x1afc1f5ad30>"
      ]
     },
     "execution_count": 506,
     "metadata": {},
     "output_type": "execute_result"
    },
    {
     "data": {
      "image/png": "[encoded data removed]",
      "text/plain": [
       "<Figure size 1260x360 with 5 Axes>"
      ]
     },
     "metadata": {},
     "output_type": "display_data"
    }
   ],
   "source": [
    "sns.catplot(y=\"score\",col = 'satisfaction',data=X, kind=\"bar\", height=5, aspect=.7)"
   ]
  },
  {
   "cell_type": "code",
   "execution_count": 507,
   "id": "a8a48b49-adbe-4327-a060-b50869380793",
   "metadata": {},
   "outputs": [
    {
     "data": {
      "text/plain": [
       "<seaborn.axisgrid.FacetGrid at 0x1afc1f76eb0>"
      ]
     },
     "execution_count": 507,
     "metadata": {},
     "output_type": "execute_result"
    },
    {
     "data": {
      "image/png": "[encoded data removed]",
      "text/plain": [
       "<Figure size 504x360 with 2 Axes>"
      ]
     },
     "metadata": {},
     "output_type": "display_data"
    }
   ],
   "source": [
    "sns.catplot(y=\"score\",col = 'activism',data=X, kind=\"bar\", height=5, aspect=.7)"
   ]
  },
  {
   "cell_type": "code",
   "execution_count": 508,
   "id": "8e30100d-4ffe-4775-80a9-4ea44b74ba08",
   "metadata": {},
   "outputs": [
    {
     "data": {
      "text/plain": [
       "<seaborn.axisgrid.FacetGrid at 0x1afc1ecc340>"
      ]
     },
     "execution_count": 508,
     "metadata": {},
     "output_type": "execute_result"
    },
    {
     "data": {
      "image/png": "[encoded data removed]",
      "text/plain": [
       "<Figure size 504x360 with 2 Axes>"
      ]
     },
     "metadata": {},
     "output_type": "display_data"
    }
   ],
   "source": [
    "sns.catplot(y=\"score\",col = 'injustice',data=X, kind=\"bar\", height=5, aspect=.7)"
   ]
  },
  {
   "cell_type": "code",
   "execution_count": 509,
   "id": "87bdb061-4df2-4b3d-90fb-2c5c88cc5d56",
   "metadata": {},
   "outputs": [
    {
     "data": {
      "text/plain": [
       "<seaborn.axisgrid.FacetGrid at 0x1afc2301100>"
      ]
     },
     "execution_count": 509,
     "metadata": {},
     "output_type": "execute_result"
    },
    {
     "data": {
      "image/png": "[encoded data removed]",
      "text/plain": [
       "<Figure size 504x360 with 2 Axes>"
      ]
     },
     "metadata": {},
     "output_type": "display_data"
    }
   ],
   "source": [
    "sns.catplot(y=\"score\",col = 'organization',data=X, kind=\"bar\", height=5, aspect=.7)"
   ]
  },
  {
   "cell_type": "code",
   "execution_count": null,
   "id": "7fff9b52-0b0e-4e63-9475-036521a33542",
   "metadata": {},
   "outputs": [],
   "source": []
  }
 ],
 "metadata": {
  "kernelspec": {
   "display_name": "Python 3",
   "language": "python",
   "name": "python3"
  },
  "language_info": {
   "codemirror_mode": {
    "name": "ipython",
    "version": 3
   },
   "file_extension": ".py",
   "mimetype": "text/x-python",
   "name": "python",
   "nbconvert_exporter": "python",
   "pygments_lexer": "ipython3",
   "version": "3.9.2"
  }
 },
 "nbformat": 4,
 "nbformat_minor": 5
}
